{
 "cells": [
  {
   "cell_type": "markdown",
   "metadata": {},
   "source": [
    "## 흐름 제어 과제 "
   ]
  },
  {
   "cell_type": "markdown",
   "metadata": {},
   "source": [
    "## 윤년 계산하기 "
   ]
  },
  {
   "cell_type": "markdown",
   "metadata": {},
   "source": [
    "윤년의 조건 \n",
    "\n",
    "- 연수가 4로 나누어지는 해는 윤년으로 한다. 2004,2008,2012...\n",
    "- 이 중에서 100으로 나누어지는 해는 평년으로 한다. \n",
    "- 그 중에서 400으로 나누어지는 해는 윤년으로 한다. \n",
    "- 위의 3가지 규칙을 사용하여 1900년부터 2100년까지의 윤년을 출력하세요"
   ]
  },
  {
   "cell_type": "code",
   "execution_count": 1,
   "metadata": {},
   "outputs": [
    {
     "name": "stdout",
     "output_type": "stream",
     "text": [
      "[1904, 1908, 1912, 1916, 1920, 1924, 1928, 1932, 1936, 1940, 1944, 1948, 1952, 1956, 1960, 1964, 1968, 1972, 1976, 1980, 1984, 1988, 1992, 1996, 2000, 2004, 2008, 2012, 2016, 2020, 2024, 2028, 2032, 2036, 2040, 2044, 2048, 2052, 2056, 2060, 2064, 2068, 2072, 2076, 2080, 2084, 2088, 2092, 2096]\n"
     ]
    }
   ],
   "source": [
    "def cal_leap_year(start,end):\n",
    "    total = range(start,end+1,1)\n",
    "    leap_lst = []\n",
    "    for yr in total:\n",
    "        if (yr%4==0)and(yr%100!=0) or (yr%400==0):\n",
    "            leap_lst.append(yr)\n",
    "    return leap_lst\n",
    "print(cal_leap_year(1900,2100))"
   ]
  }
 ],
 "metadata": {
  "kernelspec": {
   "display_name": "Python 3",
   "language": "python",
   "name": "python3"
  },
  "language_info": {
   "codemirror_mode": {
    "name": "ipython",
    "version": 3
   },
   "file_extension": ".py",
   "mimetype": "text/x-python",
   "name": "python",
   "nbconvert_exporter": "python",
   "pygments_lexer": "ipython3",
   "version": "3.8.5"
  }
 },
 "nbformat": 4,
 "nbformat_minor": 4
}
